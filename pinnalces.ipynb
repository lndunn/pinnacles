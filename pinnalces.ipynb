{
 "cells": [
  {
   "cell_type": "code",
   "execution_count": 1,
   "metadata": {
    "collapsed": false
   },
   "outputs": [
    {
     "name": "stderr",
     "output_type": "stream",
     "text": [
      "/usr/local/lib/python2.7/site-packages/matplotlib/font_manager.py:273: UserWarning: Matplotlib is building the font cache using fc-list. This may take a moment.\n",
      "  warnings.warn('Matplotlib is building the font cache using fc-list. This may take a moment.')\n"
     ]
    }
   ],
   "source": [
    "import subprocess\n",
    "import os\n",
    "from datetime import datetime\n",
    "import copy\n",
    "\n",
    "from scipy import stats\n",
    "import pandas as pd\n",
    "import numpy as np\n",
    "import urllib2\n",
    "\n",
    "from matplotlib import pyplot as plt\n",
    "from sklearn import feature_extraction\n",
    "\n",
    "from sklearn.feature_extraction.text import HashingVectorizer\n",
    "from sklearn.feature_extraction.text import TfidfTransformer\n",
    "from sklearn.pipeline import make_pipeline\n",
    "from sklearn.cluster import MiniBatchKMeans, DBSCAN\n",
    "from sklearn.neighbors import KDTree\n",
    "\n",
    "import warnings\n",
    "warnings.filterwarnings('ignore')\n",
    "\n",
    "%matplotlib inline\n",
    "\n"
   ]
  },
  {
   "cell_type": "code",
   "execution_count": 4,
   "metadata": {
    "collapsed": false
   },
   "outputs": [],
   "source": [
    "attr_dict = {'AF': 'authors', 'PY': 'year','TI': 'title', 'SO': 'journal', 'DE': 'keywords', 'AB': 'abstract', 'TC': 'citations'}\n",
    "type_dict = {'AF': list(), 'PY': int, 'TI': str, 'SO': str, 'DE': list(), 'AB': str, 'TC': int}\n",
    "seps_dict = {'AF': None, 'PY': None,'TI': None, 'SO': None, 'DE': ';', 'AB': None, 'TC': None}\n",
    "\n",
    "def parse_attributes(article_text):\n",
    "    record = {}\n",
    "    n = 0\n",
    "    authors = []\n",
    "    for row in article_text.splitlines():\n",
    "        attr = row[:2] if row[:2] != '  ' else attr\n",
    "        \n",
    "        if attr == 'AF':\n",
    "            authors += [row[3:]]\n",
    "\n",
    "        if attr != 'AF':        \n",
    "            if attr not in attr_dict.keys():\n",
    "                continue\n",
    "            record[attr] = row[3:]\n",
    "    record['AF'] = authors\n",
    "    return record\n",
    "\n",
    "def compile_articles_list(articles_dir='inputs'):\n",
    "    articles_list = list()\n",
    "    for fname in os.listdir(articles_dir):\n",
    "        with open(os.path.join(articles_dir, fname), 'r') as f:\n",
    "            text = f.read()\n",
    "        text = text.split('\\n\\n')\n",
    "        for article_entry in text:\n",
    "            parsed_entry = parse_attributes(article_entry)\n",
    "            if len(parsed_entry.keys()) < len(attr_dict.keys()):\n",
    "                pass\n",
    "            else:\n",
    "                if len(articles_list) == 0:\n",
    "                    rm_authors = 0\n",
    "                else:\n",
    "                    rm_authors = len(articles_list[-1]['AF'])\n",
    "                parsed_entry['AF'] = parsed_entry['AF'][rm_authors:]\n",
    "                articles_list += [parsed_entry,]\n",
    "                \n",
    "    return articles_list\n",
    "\n",
    "articles_list = compile_articles_list(articles_dir='inputs')\n"
   ]
  },
  {
   "cell_type": "code",
   "execution_count": 5,
   "metadata": {
    "collapsed": false
   },
   "outputs": [],
   "source": [
    "\n",
    "def vectorize_abstracts(articles, patents):\n",
    "    num_articles = len(articles)\n",
    "    if not hasattr(patents, '__iter__'):\n",
    "        patents = [patents,]\n",
    "\n",
    "    articles.extend(patents)\n",
    "    hasher = HashingVectorizer(lowercase=True,\n",
    "                           stop_words='english', non_negative=True,\n",
    "                           norm=None, binary=False)\n",
    "\n",
    "    vectorizer = make_pipeline(hasher, TfidfTransformer())\n",
    "    X = vectorizer.fit_transform(articles)\n",
    "\n",
    "    return X[:num_articles,:], X[num_articles:,:]\n",
    "\n",
    "def do_clustering(X, y, use_algorithm='dbscan'):\n",
    "    def use_kmeans(X, y):\n",
    "        km = MiniBatchKMeans(n_clusters=5, init='k-means++', n_init=1,\n",
    "                            init_size=1000, batch_size=5)\n",
    "        km.fit(X)\n",
    "        y_hat = km.predict(y)\n",
    "        return y_hat, km.labels_\n",
    "\n",
    "    def use_dbscan(X, y):\n",
    "        eps_vals = np.logspace(-2,2,200)\n",
    "        best_n = 0\n",
    "        use_eps = 0\n",
    "        for eps in eps_vals:\n",
    "            db = DBSCAN(eps=eps, min_samples=2)\n",
    "            db.fit(X)\n",
    "            n_clusters = len(set(db.labels_))\n",
    "            if n_clusters > best_n:\n",
    "                use_eps = eps\n",
    "                best_n = n_clusters\n",
    "                result = db\n",
    "            else:\n",
    "                pass\n",
    "            \n",
    "        db = DBSCAN(eps=use_eps, min_samples=2)\n",
    "        y_hat = db.fit_predict(X, y)\n",
    "        print y.shape, y_hat, X.shape\n",
    "        return y_hat, db.labels_\n",
    "    \n",
    "    if use_algorithm == 'kmeans':\n",
    "        return use_kmeans(X,y)\n",
    "    elif use_algorithm == 'dbscan':\n",
    "        return use_dbscan(X,y)\n"
   ]
  },
  {
   "cell_type": "code",
   "execution_count": 35,
   "metadata": {
    "collapsed": false
   },
   "outputs": [],
   "source": [
    "articles_dir = 'vesta'\n",
    "articles_list = compile_articles_list(articles_dir=articles_dir)\n",
    "\n",
    "## Uncomment to add clustering by patent abstract contents\n",
    "# patent_abstract = \"A battery pack thermal management system for use in an electric car. The battery pack thermal management system includes a plurality of thermistors connected to a plurality of cells of a battery pack. A battery monitor board is connected to the thermistors. The system also includes a manifold and a plurality of cooling tubes connected to the manifold. A tube seal plug is arranged over an end of the cooling tube and an end fitting is arranged on an end of the cooling tube. The thermal management system will cool the battery pack to predetermined temperatures to increase the longevity of the battery pack within the electric vehicle.\"\n",
    "# article_abstracts = [a['AB'] for a in articles_list]\n",
    "# authors_list = list(set([a for alist in articles_list for a in alist['AF']]))\n",
    "\n",
    "# X,y = vectorize_abstracts(article_abstracts, patent_abstract)\n",
    "# y_hat, clusters = do_clustering(X, y, use_algorithm='kmeans')\n",
    "\n",
    "minyear = datetime.now().year - 10\n",
    "use_articles = [a for i, a in enumerate(articles_list) if int(a['PY']) >= minyear]# and clusters[i]==y_hat]\n",
    "\n",
    "authors_list = []\n",
    "for article in use_articles:\n",
    "    if int(article['PY']) < datetime.now().year-10:\n",
    "        pass\n",
    "    else:\n",
    "        authors_list += article['AF']\n",
    "authors_list = list(set(authors_list))"
   ]
  },
  {
   "cell_type": "code",
   "execution_count": 36,
   "metadata": {
    "collapsed": false
   },
   "outputs": [
    {
     "data": {
      "text/plain": [
       "(490, 1311)"
      ]
     },
     "execution_count": 36,
     "metadata": {},
     "output_type": "execute_result"
    }
   ],
   "source": [
    "# \n",
    "len(use_articles), len(authors_list)"
   ]
  },
  {
   "cell_type": "code",
   "execution_count": 37,
   "metadata": {
    "collapsed": false
   },
   "outputs": [],
   "source": [
    "\n",
    "papers = pd.DataFrame(data=0, index=authors_list, columns=range(datetime.now().year-10, datetime.now().year+1))\n",
    "citations = pd.DataFrame(data=0, index=authors_list, columns=range(datetime.now().year-10, datetime.now().year+1))\n",
    "\n",
    "for i, article in enumerate(use_articles):\n",
    "    if int(article['PY']) < datetime.now().year-10:\n",
    "        continue\n",
    "    papers[int(article['PY'])].ix[list(article['AF'])] += 1\n",
    "    citations[int(article['PY'])].ix[list(article['AF'])] += int(article['TC'])\n",
    "\n",
    "## Uncomment to add google scholar query that eliminates authors likely beyond a postdoc\n",
    "# old_authors = []\n",
    "# for author in papers.index:\n",
    "#     old_pubs = os.system('python scholar.py -c 1 --author \"%s\" --before %i'%(author.lower(), datetime.now().year-10))\n",
    "#     if old_pubs > 0:\n",
    "#         old_authors.append(author)\n",
    "        \n",
    "# papers = papers.drop(old_authors)\n",
    "# citations = citations.drop(old_authors)\n",
    "# print len(papers)\n",
    "\n",
    "papers.to_csv('tesla_papers.csv')\n",
    "citations.to_csv('tesla_citations.csv')\n",
    "\n",
    "\n",
    "\n"
   ]
  },
  {
   "cell_type": "code",
   "execution_count": 41,
   "metadata": {
    "collapsed": false,
    "scrolled": true
   },
   "outputs": [
    {
     "data": {
      "image/png": "[encoded data removed]",
      "text/plain": [
       "<matplotlib.figure.Figure at 0x10e738290>"
      ]
     },
     "metadata": {},
     "output_type": "display_data"
    },
    {
     "data": {
      "image/png": "[encoded data removed]",
      "text/plain": [
       "<matplotlib.figure.Figure at 0x10f234e90>"
      ]
     },
     "metadata": {},
     "output_type": "display_data"
    },
    {
     "data": {
      "image/png": "[encoded data removed]",
      "text/plain": [
       "<matplotlib.figure.Figure at 0x10f4175d0>"
      ]
     },
     "metadata": {},
     "output_type": "display_data"
    }
   ],
   "source": [
    "\n",
    "top_authors = citations.sum(axis=1).nlargest(200).index\n",
    "\n",
    "_papers = papers.ix[top_authors].sum(axis=1)\n",
    "_citations = citations.ix[top_authors].sum(axis=1)\n",
    "\n",
    "fig ,ax = plt.subplots()\n",
    "ax.hist(_papers)\n",
    "plt.show()\n",
    "\n",
    "\n",
    "fig ,ax = plt.subplots()\n",
    "ax.hist(_citations)\n",
    "plt.show()\n",
    "\n",
    "fig, ax = plt.subplots()\n",
    "ax.plot(_papers, _citations, marker='.', color='k', ls=' ' ,alpha=0.5)\n",
    "ax.set_xlim((0,5))\n",
    "\n",
    "out = stats.linregress(_papers, _citations)\n",
    "ax.plot(range(1,5), np.arange(1,5,1)*out[0]+out[1], 'r', lw=2)\n",
    "ax.set_xlabel('Number of Papers Published')\n",
    "ax.set_ylabel('Number of Citations')\n",
    "\n",
    "plt.show()"
   ]
  },
  {
   "cell_type": "code",
   "execution_count": null,
   "metadata": {
    "collapsed": false
   },
   "outputs": [],
   "source": []
  },
  {
   "cell_type": "code",
   "execution_count": null,
   "metadata": {
    "collapsed": false
   },
   "outputs": [],
   "source": []
  },
  {
   "cell_type": "code",
   "execution_count": null,
   "metadata": {
    "collapsed": false
   },
   "outputs": [],
   "source": []
  },
  {
   "cell_type": "code",
   "execution_count": null,
   "metadata": {
    "collapsed": true
   },
   "outputs": [],
   "source": []
  }
 ],
 "metadata": {
  "kernelspec": {
   "display_name": "Python 2",
   "language": "python",
   "name": "python2"
  },
  "language_info": {
   "codemirror_mode": {
    "name": "ipython",
    "version": 2
   },
   "file_extension": ".py",
   "mimetype": "text/x-python",
   "name": "python",
   "nbconvert_exporter": "python",
   "pygments_lexer": "ipython2",
   "version": "2.7.9"
  }
 },
 "nbformat": 4,
 "nbformat_minor": 0
}
